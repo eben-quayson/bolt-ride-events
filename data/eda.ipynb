{
 "cells": [
  {
   "cell_type": "code",
   "execution_count": 2,
   "id": "a735b76d",
   "metadata": {},
   "outputs": [],
   "source": [
    "import pandas as pd"
   ]
  },
  {
   "cell_type": "code",
   "execution_count": 6,
   "id": "d1a4fb41",
   "metadata": {},
   "outputs": [],
   "source": [
    "df = pd.read_csv('trip_end.csv')\n",
    "df2 = pd.read_csv('trip_start.csv')"
   ]
  },
  {
   "cell_type": "code",
   "execution_count": 4,
   "id": "febea618",
   "metadata": {},
   "outputs": [
    {
     "data": {
      "text/plain": [
       "Index(['dropoff_datetime', 'rate_code', 'passenger_count', 'trip_distance',\n",
       "       'fare_amount', 'tip_amount', 'payment_type', 'trip_type', 'trip_id'],\n",
       "      dtype='object')"
      ]
     },
     "execution_count": 4,
     "metadata": {},
     "output_type": "execute_result"
    }
   ],
   "source": [
    "df.columns"
   ]
  },
  {
   "cell_type": "code",
   "execution_count": 7,
   "id": "c3fcdcef",
   "metadata": {},
   "outputs": [
    {
     "data": {
      "text/plain": [
       "Index(['trip_id', 'pickup_location_id', 'dropoff_location_id', 'vendor_id',\n",
       "       'pickup_datetime', 'estimated_dropoff_datetime',\n",
       "       'estimated_fare_amount'],\n",
       "      dtype='object')"
      ]
     },
     "execution_count": 7,
     "metadata": {},
     "output_type": "execute_result"
    }
   ],
   "source": [
    "df2.columns"
   ]
  }
 ],
 "metadata": {
  "kernelspec": {
   "display_name": "Python 3",
   "language": "python",
   "name": "python3"
  },
  "language_info": {
   "codemirror_mode": {
    "name": "ipython",
    "version": 3
   },
   "file_extension": ".py",
   "mimetype": "text/x-python",
   "name": "python",
   "nbconvert_exporter": "python",
   "pygments_lexer": "ipython3",
   "version": "3.11.9"
  }
 },
 "nbformat": 4,
 "nbformat_minor": 5
}
